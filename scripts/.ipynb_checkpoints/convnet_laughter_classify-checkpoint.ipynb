{
 "metadata": {
  "name": "",
  "signature": "sha256:8ac3ede6b71419d28734e2f6f059cfc202fd83115f23b38804271a074724a41f"
 },
 "nbformat": 3,
 "nbformat_minor": 0,
 "worksheets": []
}